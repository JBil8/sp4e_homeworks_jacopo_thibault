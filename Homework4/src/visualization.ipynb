{
 "cells": [
  {
   "cell_type": "code",
   "execution_count": 1,
   "metadata": {},
   "outputs": [
    {
     "name": "stdout",
     "output_type": "stream",
     "text": [
      "Error for planet mercury : pos_error = 0.5165091868605669 vel_error = 0.01802202482313605\n",
      "Error for planet venus : pos_error = 0.7867926766725032 vel_error = 0.013048139261165284\n",
      "Error for planet earth : pos_error = 0.633982336451083 vel_error = 0.006485490834355664\n",
      "Error for planet mars : pos_error = 0.624308252452014 vel_error = 0.003253459288143698\n",
      "Error for planet jupiter : pos_error = 0.1420112126210599 vel_error = 0.00011367299588731453\n",
      "Error for planet saturn : pos_error = 0.10792388432847781 vel_error = 3.270424673494259e-05\n",
      "Error for planet uranus : pos_error = 0.07350092538489982 vel_error = 7.632756754170908e-06\n",
      "Error for planet neptune : pos_error = 0.059937302811958096 vel_error = 3.1424168702989956e-06\n"
     ]
    }
   ],
   "source": [
    "import numpy as np\n",
    "import matplotlib.pyplot as plt\n",
    "import csv\n",
    "import os\n",
    "import re\n",
    "from scipy.optimize import fmin\n",
    "\n",
    "def read_csv_as_dict(file_path):\n",
    "    \"\"\"\n",
    "    Read a csv file and return a dictionary with the data\n",
    "    \"\"\"\n",
    "\n",
    "    data_dict = {}\n",
    "\n",
    "    with open(file_path, 'r') as csv_file:\n",
    "        # skip first line if it starts with '#'\n",
    "        if csv_file.readline().startswith('#'):\n",
    "            next(csv_file)\n",
    "\n",
    "        for line in csv_file:\n",
    "            # Use regular expression to split line based on consecutive whitespace\n",
    "            row = re.split(r'\\s+', line.strip())\n",
    "            \n",
    "            key = row[-1]  # Last element of the row as the key\n",
    "            values = np.array([float(val) if val.replace('.', '', 1).isdigit() or (val[0] == '-' and val[1:].replace('.', '', 1).isdigit()) else val for val in row[:-1]], dtype=object)\n",
    "            data_dict[key] = values\n",
    "\n",
    "    return data_dict\n",
    "\n",
    "def list_files_in_folder(directory, start_pattern):\n",
    "    \"\"\"\n",
    "    List all files in a folder that start with a specified pattern\n",
    "    \"\"\"\n",
    "\n",
    "    file_list = []\n",
    "\n",
    "    # Iterate over all files in the folder\n",
    "    for filename in os.listdir(directory):\n",
    "        # Check if the filename starts with the specified pattern\n",
    "        if filename.startswith(start_pattern):\n",
    "            file_list.append(filename)\n",
    "\n",
    "    #order the list by number\n",
    "    file_list.sort(key=lambda f: int(''.join(filter(str.isdigit, f))))\n",
    "\n",
    "    return file_list\n",
    "\n",
    "def read_data_by_planet(planet_name, list, property, directory):\n",
    "    \"\"\"\n",
    "    Read data from a list of files for a specified planet and property\n",
    "    \"\"\"\n",
    "\n",
    "    data = np.zeros((len(list), 3))\n",
    "\n",
    "    if property == 'position':\n",
    "        indexes = [0, 1, 2]\n",
    "    elif property == 'velocity':\n",
    "        indexes = [3, 4, 5]\n",
    "    elif property == 'force':\n",
    "        indexes = [6, 7, 8]\n",
    "    else:\n",
    "        raise ValueError('Invalid property')\n",
    "\n",
    "    for i, file in enumerate(list):\n",
    "        result = read_csv_as_dict(directory + file)\n",
    "        data[i] = result[planet_name][indexes]\n",
    "\n",
    "    return data    \n",
    "\n",
    "def computeError(positions, positions_ref):\n",
    "    error = sum(np.linalg.norm(positions - positions_ref, axis=1)**2)**0.5\n",
    "    return error\n",
    "\n",
    "for planet in ['mercury', 'venus', 'earth', 'mars', 'jupiter', 'saturn', 'uranus', 'neptune']:\n",
    "    list_true = list_files_in_folder('trajectories/', 'step')\n",
    "    list_simulation = list_files_in_folder('../build/dumps/', 'step')\n",
    "    position_true = read_data_by_planet(planet, list_true, 'position', 'trajectories/')\n",
    "    position_simulation = read_data_by_planet(planet, list_simulation, 'position', '../build/dumps/')\n",
    "    velocity_true = read_data_by_planet(planet, list_true, 'velocity', 'trajectories/')\n",
    "    velocity_simulation = read_data_by_planet(planet, list_simulation, 'velocity', '../build/dumps/')\n",
    "    error_position = computeError(position_simulation, position_true)\n",
    "    error_velocity = computeError(velocity_simulation, velocity_true)\n",
    "    print('Error for planet ' + planet + ' : pos_error = ' + str(error_position) + ' vel_error = ' + str(error_velocity))\n"
   ]
  },
  {
   "cell_type": "markdown",
   "metadata": {},
   "source": [
    "We notice Mercury has indeed the highest error.\n",
    "\n",
    "In what follows there are routines to run the simulations with scaled initial velocity"
   ]
  },
  {
   "cell_type": "code",
   "execution_count": 2,
   "metadata": {},
   "outputs": [],
   "source": [
    "def generate_input(scale, planet_name, input_filename, output_filename):\n",
    "    # Read data from the input file using read_csv_as_dict\n",
    "    data_dict = read_csv_as_dict(input_filename)\n",
    "\n",
    "    # Process the velocity scaling for the specified planet\n",
    "    if planet_name in data_dict:\n",
    "        velocity_indexes = [3, 4, 5]  # Assuming VX, VY, VZ are at indices 3, 4, 5 in the row\n",
    "        data_dict[planet_name][velocity_indexes] *= scale\n",
    "\n",
    "    # Write the modified data to the output file\n",
    "    with open(output_filename, 'w') as outfile:\n",
    "        # Write the header lines (sun is not scaled)\n",
    "        outfile.write(\"#X Y Z VX VY VZ FX FY FZ mass radius name\\n\")\n",
    "        outfile.write(\"0.0 0.0 0.0 0.0 0.0 0.0 0.0 0.0 0.0 333060.401628 sun \\n\")\n",
    "        # Write the data lines\n",
    "        count = 0\n",
    "        planet_name = list(data_dict.keys())\n",
    "        for values in data_dict.values():\n",
    "            outfile.write(' '.join(map(str, values)) + ' ' + planet_name[count] + ' \\n')\n",
    "            count += 1\n",
    "\n",
    "def launchParticles(input,nb_steps,freq):\n",
    "    \"\"\"\n",
    "    Launches the simulation with the specified input file for the specified number of steps and with the specified output frequency\n",
    "    \"\"\"\n",
    "\n",
    "    # Launch the simulation\n",
    "    os.system('python3 main.py ' + str(nb_steps) + ' ' + str(freq) + ' ' + input + ' planet 1')\n",
    "\n",
    "def runAndComputeError(scale,planet_name,input,nb_steps,freq):\n",
    "    \"\"\"\n",
    "    Runs the simulation with scaled velocity and computes the error\n",
    "    \"\"\"\n",
    "    generate_input(scale, planet_name, input, 'init_scaled.csv')\n",
    "    os.chdir('../build')\n",
    "    launchParticles('../src/init_scaled.csv', nb_steps, freq)\n",
    "    os.chdir('../src')\n",
    "    list_true = list_files_in_folder('trajectories/', 'step')\n",
    "    list_simulation = list_files_in_folder('../build/dumps/', 'step')\n",
    "    position_true = read_data_by_planet(planet_name, list_true, 'position', 'trajectories/')\n",
    "    position_simulation = read_data_by_planet(planet_name, list_simulation, 'position', '../build/dumps/')\n",
    "    error_position = computeError(position_simulation, position_true)\n",
    "    return error_position"
   ]
  },
  {
   "cell_type": "markdown",
   "metadata": {},
   "source": [
    "Optimization study to find the minimum error on the trajectory of mercury"
   ]
  },
  {
   "cell_type": "code",
   "execution_count": 3,
   "metadata": {},
   "outputs": [
    {
     "data": {
      "image/png": "[encoded data removed]",
      "text/plain": [
       "<Figure size 640x480 with 1 Axes>"
      ]
     },
     "metadata": {},
     "output_type": "display_data"
    },
    {
     "name": "stdout",
     "output_type": "stream",
     "text": [
      "Optimal Scaling Factor: 0.3990\n"
     ]
    }
   ],
   "source": [
    "scaling_factors = np.linspace(0.2, 1.2, 50) \n",
    "errors = []\n",
    "\n",
    "for scale in scaling_factors:\n",
    "    error = runAndComputeError(scale,'mercury','init.csv',365,1)\n",
    "    errors.append(error)\n",
    "\n",
    "# Find the optimal scaling factor that minimizes the error\n",
    "optimal_scale = fmin(runAndComputeError, 1.0, args=('mercury', 'init.csv', 365, 1), disp=False)\n",
    "\n",
    "# Plot the evolution of the error versus the scaling factor\n",
    "plt.plot(scaling_factors, errors, marker='o')\n",
    "plt.xlabel('Scaling Factor')\n",
    "plt.ylabel('Error')\n",
    "plt.title('Error vs Scaling Factor for Mercury Initial Velocity')\n",
    "plt.axvline(x=optimal_scale, color='r', linestyle='--', label=f'Optimal Scale: {optimal_scale[0]:.4f}')\n",
    "plt.legend()\n",
    "plt.show()\n",
    "\n",
    "print(f'Optimal Scaling Factor: {optimal_scale[0]:.4f}')"
   ]
  },
  {
   "cell_type": "code",
   "execution_count": 4,
   "metadata": {},
   "outputs": [
    {
     "name": "stdout",
     "output_type": "stream",
     "text": [
      "Minimum Error: 0.5165\n"
     ]
    }
   ],
   "source": [
    "minimum_error = runAndComputeError(optimal_scale[0],'mercury','init.csv',365,1)\n",
    "print(f'Minimum Error: {minimum_error:.4f}')"
   ]
  }
 ],
 "metadata": {
  "kernelspec": {
   "display_name": "Python 3",
   "language": "python",
   "name": "python3"
  },
  "language_info": {
   "codemirror_mode": {
    "name": "ipython",
    "version": 3
   },
   "file_extension": ".py",
   "mimetype": "text/x-python",
   "name": "python",
   "nbconvert_exporter": "python",
   "pygments_lexer": "ipython3",
   "version": "3.10.12"
  }
 },
 "nbformat": 4,
 "nbformat_minor": 2
}
